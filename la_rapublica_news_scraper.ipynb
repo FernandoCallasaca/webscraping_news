{
 "cells": [
  {
   "cell_type": "markdown",
   "source": "# Prepare our Environment",
   "metadata": {
    "cell_id": "610f2ca6624449ed9cf826cd4d0db039",
    "tags": [],
    "deepnote_cell_type": "markdown",
    "deepnote_cell_height": 82
   }
  },
  {
   "cell_type": "markdown",
   "source": "Libraries:\n\n- request: An elegant and simple HTTP library for Python, built for human beings. Behold, the power of Requests\n\n- lxml: To use XPath inside Python\n\n- autopep8: format our code to have oficial styles of the language",
   "metadata": {
    "cell_id": "af3a0f55b277416786bbde238724e61d",
    "tags": [],
    "deepnote_cell_type": "markdown",
    "deepnote_cell_height": 176
   }
  },
  {
   "cell_type": "code",
   "metadata": {
    "tags": [],
    "cell_id": "3a60fb8e-2461-43f1-9d43-149101632bb1",
    "deepnote_to_be_reexecuted": false,
    "source_hash": "9404c8c6",
    "execution_start": 1649121699889,
    "execution_millis": 1454,
    "deepnote_cell_type": "code",
    "deepnote_cell_height": 156.796875
   },
   "source": "pip install request lxml autopep8",
   "execution_count": 5,
   "outputs": [
    {
     "name": "stdout",
     "text": "\u001b[31mERROR: Could not find a version that satisfies the requirement request (from versions: none)\u001b[0m\u001b[31m\n\u001b[0m\u001b[31mERROR: No matching distribution found for request\u001b[0m\u001b[31m\n\u001b[0mNote: you may need to restart the kernel to use updated packages.\n",
     "output_type": "stream"
    }
   ]
  },
  {
   "cell_type": "code",
   "metadata": {
    "cell_id": "f5e923741f474afe8f9ab503736daae0",
    "tags": [],
    "deepnote_to_be_reexecuted": false,
    "source_hash": "17f17d0b",
    "execution_start": 1649121685830,
    "execution_millis": 7716,
    "deepnote_cell_type": "code",
    "deepnote_cell_height": 337
   },
   "source": "pip install pip --upgrade",
   "execution_count": 4,
   "outputs": [
    {
     "name": "stdout",
     "text": "Collecting pip\n  Downloading pip-22.0.4-py3-none-any.whl (2.1 MB)\n\u001b[K     |████████████████████████████████| 2.1 MB 14.9 MB/s \n\u001b[?25hInstalling collected packages: pip\n  Attempting uninstall: pip\n    Found existing installation: pip 20.1.1\n    Uninstalling pip-20.1.1:\n      Successfully uninstalled pip-20.1.1\nSuccessfully installed pip-22.0.4\nNote: you may need to restart the kernel to use updated packages.\n",
     "output_type": "stream"
    }
   ]
  },
  {
   "cell_type": "markdown",
   "source": "# Start Working",
   "metadata": {
    "cell_id": "457b7bc84c934c388116f62302e6c15f",
    "tags": [],
    "deepnote_cell_type": "markdown",
    "deepnote_cell_height": 82
   },
   "outputs": [],
   "execution_count": null
  },
  {
   "cell_type": "markdown",
   "source": "### Import our libraries",
   "metadata": {
    "cell_id": "5e9012207b0a43729f91a9b294e591c9",
    "tags": [],
    "deepnote_cell_type": "markdown",
    "deepnote_cell_height": 62
   }
  },
  {
   "cell_type": "code",
   "source": "import requests\nimport lxml.html as html\nimport pandas as pd\n\n# create a folder and save news\nimport os\nimport datetime",
   "metadata": {
    "cell_id": "70dd151b52e44cd595c8ba499e61a667",
    "tags": [],
    "deepnote_to_be_reexecuted": false,
    "source_hash": "8846b841",
    "execution_start": 1649125479726,
    "execution_millis": 4,
    "deepnote_cell_type": "code",
    "deepnote_cell_height": 189
   },
   "outputs": [],
   "execution_count": 46
  },
  {
   "cell_type": "code",
   "source": "home_url = 'https://larepublica.pe/'\nlinks = '//a/@href'\n\nlinks_headline = '//h2[@class = \"listNotes__headline\"]/a/@href'\ntitle_headline = '//*[contains(concat( \" \", @class, \" \" ), concat( \" \", \"DefaultTitle\", \" \" ))]/text()'\nresume_headline = '//*[contains(concat( \" \", @class, \" \" ), concat( \" \", \"DefaultSubtitle\", \" \" ))]/text()'\ninternal_content_headline = '//div[@class = \"page-internal-content\"]/section/p/text()'",
   "metadata": {
    "cell_id": "840709fbc84d4443b47baf2e0922b6d2",
    "tags": [],
    "deepnote_to_be_reexecuted": false,
    "source_hash": "766e649c",
    "execution_start": 1649123835329,
    "execution_millis": 3,
    "deepnote_cell_type": "code",
    "deepnote_cell_height": 189,
    "deepnote_output_heights": [
     21.1875
    ]
   },
   "outputs": [],
   "execution_count": 23
  },
  {
   "cell_type": "code",
   "source": "def parse_home(link, today):\n    try:\n        response = requests.get(link)\n        if(response.status_code == 200):\n            notice = response.content.decode('utf-8')\n            parsed = html.fromstring(notice)\n            try:\n                title = parsed.xpath(title_headline)\n                # title = title.replace('\\\"', '')\n                summary = parsed.xpath(resume_headline)\n                body = parsed.xpath(internal_content_headline)\n                print(title)\n                print(summary)\n                print(body)\n                print()\n\n            except IndexError: # maybe one notice dont have summary\n                return\n\n            with open(f'{today}/{title[0]}.txt', 'w', encoding='utf-8') as f:\n                f.write(title[0])\n                f.write('\\n\\n')\n                f.write(summary[0])\n                f.write('\\n\\n')\n                for p in body:\n                    f.write(p)\n                    f.write('\\n')\n        else:\n            raise ValueError(f'Error: {response.status_code}')\n    except ValueError as ve:\n        print(ve)",
   "metadata": {
    "cell_id": "eaa26228a1e24067b5d226781992f49a",
    "tags": [],
    "deepnote_to_be_reexecuted": false,
    "source_hash": "c7d6fc39",
    "execution_start": 1649125873169,
    "execution_millis": 3,
    "deepnote_cell_type": "code",
    "deepnote_cell_height": 621
   },
   "outputs": [],
   "execution_count": 50
  },
  {
   "cell_type": "code",
   "source": "# create a function to extract links\ndef home():\n    try:\n        response = requests.get(home_url)\n        if(response.status_code == 200):\n            # python need to reconize 'ñ', etc\n            home = response.content.decode('utf-8')\n            # transform to use XPATH\n            parsed = html.fromstring(home)\n            # get the links\n            links_to_notices = parsed.xpath(links_headline)\n            # print(links_to_notices)\n            # create a format of our date\n            today = datetime.date.today().strftime('%d-%m-%Y')\n\n            if not os.path.isdir(today):\n                os.mkdir(today)\n            \n            for link in links_to_notices:\n                parse_home(link, today)\n        else:\n            raise ValueError(f'Error: {response.status_code}')\n    except ValueError as ve:\n        print(ve)",
   "metadata": {
    "cell_id": "5d0c4f87f4524d809bbe28aa4209be53",
    "tags": [],
    "deepnote_to_be_reexecuted": false,
    "source_hash": "c607c19",
    "execution_start": 1649125609135,
    "execution_millis": 3,
    "deepnote_cell_type": "code",
    "deepnote_cell_height": 495
   },
   "outputs": [],
   "execution_count": 47
  },
  {
   "cell_type": "code",
   "source": "def run():\n    home()",
   "metadata": {
    "cell_id": "214c983ecf444bf6886e7033a69261ec",
    "tags": [],
    "deepnote_to_be_reexecuted": false,
    "source_hash": "2e980154",
    "execution_start": 1649125169096,
    "execution_millis": 2,
    "deepnote_cell_type": "code",
    "deepnote_cell_height": 99
   },
   "outputs": [],
   "execution_count": 38
  },
  {
   "cell_type": "code",
   "source": "run()",
   "metadata": {
    "cell_id": "c783038e02774cef9dc064684c71885d",
    "tags": [],
    "deepnote_to_be_reexecuted": false,
    "source_hash": "fa59d53a",
    "execution_start": 1649125878840,
    "execution_millis": 534,
    "deepnote_cell_type": "code",
    "deepnote_cell_height": 496.796875,
    "deepnote_output_heights": [
     462.796875,
     462.796875
    ]
   },
   "outputs": [
    {
     "name": "stdout",
     "text": "['Pedro Castillo lidera sesión extraordinaria del Consejo de Ministros ante crisis nacional']\n['Reunión se da con el objetivo de determinar nuevas medidas ante las demandas de manifestantes de diversos sectores, quienes vienen protestando por el incremento de precios en los productos. ']\n['Sesión. El presidente de la República, ', ', lidera ', ', ante la crisis que se vive por las protestas y manifestaciones de varios gremios de transportistas, comerciantes, agricultores, entre otros, debido ', 'Dicha reunión, que contó con ', ', y los demás ministros, se da con el fin de “determinar nuevas medidas ante las demandas de los sectores del país e impulsar el proceso de diálogo establecido por el Gobierno”.', 'Más temprano, el titular de Turismo y Comercio Exterior, ', ', confirmó que los ministros se pusieron de acuerdo ', ' y manifestaciones de la población.', ' Habrá una conferencia de prensa para dar precisiones y el alcance socioeconómico de las medidas que se han tomado y se siguen evaluando para dar otras complementarias”, señaló el titular del Mincetur a la prensa.', 'El último domingo, el ', ' (MTC) anunció que ', ' de hace siete días acatada tras el alza de precio del combustible.', 'Mediante una publicación en su cuenta de Twitter, el MTC señaló que, tras un amplio diálogo entre ', '; el primer ministro, ', '; el ministro de Transportes y Comunicaciones,', '; y representantes del Frente Nacional de Transportistas y Conductores de Cargada Pesada, se suscribió un acuerdo para', '.', 'No obstante,', ', quienes ', ', que hasta el momento han dejado como saldo cuatro muertes.']\n\n['Junta de Portavoces acuerda invitar a Castillo para dialogar sobre conflictos este martes 5 de abril']\n['La presidenta del Congreso, María del Carmen Alva, añadió que también podrán asistir a la reunión los ministros de Economía, Transportes, Energía y Minas, Desarrollo Agrario e Interior.']\n['Luego de solicitarse una cuestión previa presentada por el parlamentario José Jerí de Somos Perú para que se autorice a la Mesa Directiva y a los portavoces reunirse con el presidente Pedro Castillo “a efectos de ', '”, la Junta de Portavoces acordó invitar al jefe de Estado para mañana martes 5 de abril a las 3.00 p. m.', 'Asimismo, la invitación se hizo extensiva a los ministros de Economía, Transportes, Energía y Minas, Desarrollo Agrario e Interior, quienes han estado participando en las conversaciones con los dirigentes de las manifestaciones en las distintas provincias.', '“', ' (...)” se lee el documento enviado de Alva a Castillo.', 'Como se informó, a pesar de ', ', en Lima Metropolitana y en diferentes regiones del país los trabajadores del transporte público, taxis, colectivos y medios fluviales se encuentran acatando un ', ', a fin de exigir mesas de diálogo con las autoridades.', 'El titular del ', '(Mindef), ', ', se refirió sobre ', 'ocurridas por los enfrentamientos entre efectivos de la Policía Nacional del Perú (PNP) con los gremios de transportistas, agricultores, comerciantes, entre otros.', '“', '.\\xa0No hubo nada más, son cuatro”, expresó el funcionario a Canal N.']\n\n['Pedro Castillo EN VIVO: presidente encabeza sesión extraordinaria de la PCM']\n['Sigue la última hora del presidente del Perú, Pedro Castillo. Noticias sobre el Consejo de Ministros, el paro de transportistas, Comisión de Ética, Congreso de la República y más. ']\n['El presidente de Perú, ', ', ganó las elecciones de 2021 y fue proclamado mandatario el 28 de julio de ese año. En los ocho meses de su gestión, ', ' enfrentó dos ', ' fallidos desde el Congreso. El último intento de destitución solo obtuvo 55 votos a favor, frente a los 87 necesarios para retirar a un jefe de Estado de su cargo.', 'En el ámbito económico, el Gobierno oficializó el aumento del sueldo mínimo de S/930 a S/1.025 para los empleados sujetos al régimen laboral de la actividad privada. La medida se publicó el último domingo 3 de abril en el diario oficial El Peruano y regirá desde el 1 de mayo de 2022. De esta forma, la remuneración sube tras cuatro años y lo hace en S/ 95.', 'Por su parte, el titular del ministerio del Interior, Alfonso Chávarry, informó que, durante las manifestaciones en Huancayo, tres ciudadanos murieron. “Cuando se han realizado las protestas, algunos han protestado de manera pacífica por la ciudad. La Policía ha manejado con mucho tino la situación para evitar costos sociales; sin embargo, se han producido tres muertes, pero no por la Policía, sino dos por accidentes y uno por un niño que se ha caído al río y la PNP ha rescatado.']\n\n['Plenario regional de JP pidió a titular del Mincetur renunciar al cargo']\n['Lambayeque. Los militantes advirtieron a Roberto Sánchez que si no renuncia, actuará a título personal. Por su parte, el coordinador de Juntos por el Perú afirmó que dicho acuerdo no tiene validez legal.']\n['Las discrepancias en el seno del partido Juntos por el Perú', ' son más notorias. El plenario regional de', ' acordó que el presidente del Consejo Ejecutivo Nacional (CEN) ', 'renuncie al cargo de ministro de Comercio Exterior y Turismo ', ', pues, de lo contrario, actuará a título personal.', 'Así lo señaló el ', ' con 350 asistentes y que fue convocada por los secretarios provinciales de Chiclayo, Moisés Ángeles; de Ferreñafe, Gregorio Siadén; y Lambayeque, Rubén Santamaría.', 'Las causales que conllevaron a tomar dicha decisión son los sucesivos errores del Gobierno de ', ' como es el presunto favorecimiento de empresarios e investigación por supuestos hechos de corrupción contra los sobrinos del mandatario.', 'menciona el acuerdo.', 'En esa línea, el plenario planteó que Roberto Sánchez deje de ser parte del', 'y -advirtió- que, de hacer caso omiso al acuerdo, entonces será responsable de las consecuencias.', 'Marco Cardoso señaló que el titular del ', 'debe tomar una decisión en el marco de los principios y lineamientos democráticos de Juntos por el Perú y más cuando se aproxima un proceso electoral.', 'Por su parte, ', 'actual coordinador regional de Juntos por el Perú (JP),', 'manifestó que el acuerdo plenario carece de legalidad, ya que solo asistieron 60 personas que no son militantes. Subrayó que Roberto Sánchez tiene el respaldo de la Dirección Política Nacional de la referida organización política.']\n\n['Perú Libre: Yuri Castro vence a Zaira Arias en las internas y postulará a la alcaldía de Lima']\n['Yuri Castro, asesor de Pedro Castillo en las elecciones presidenciales, buscará hacerse con el sillón metropolitano en los comicios de octubre próximo.']\n[' superó el último domingo a ', ' en las elecciones internas de Perú Libre, por lo que será el candidato del partido oficialista a la alcaldía de Lima Metropolitana en los ', '.', 'Según un comunicado del partido, en un inicio se esperaba que solo se presentara una lista para las internas; sin embargo, “el miércoles 30 de marzo, como estaba estipulado en el cronograma, se apersonó en horas de la tarde el personero de la precandidata Zaira Arias logrando conseguir su inscripción”.', '“Como parte de nuestro principio democrático y fortaleciendo el impulso político de nuestros dirigentes, cada candidato comenzó a recorrer los distritos de Lima para el llamado a la militancia a votar el domingo 3. Muestra de ello fueron las portátiles de cada cabeza de lista que desde muy temprano demostraron su nivel organizativo”, se lee en el pronunciamiento.', 'Perú Libre sostuvo que los comicios internos se llevaron a cabo con “completa normalidad” y que “se esperó hasta el último militante inscrito” en el Registro de Organizaciones Políticas (ROP) del Jurado Nacional de Elecciones (JNE).', 'El perulibrista ', ', quien fue asesor de comunicaciones de Pedro Castillo en la última campaña electoral, enfrentaría en las urnas a ', ' por el sillón metropolitano.', 'Los precandidatos confirmados a la alcaldía de Lima son Luis Molina (Avanza País), Rafael López Aliaga (Renovación Popular), Daniel Urresti (Podemos Perú), César Combina (Fuerza Popular) y Álvaro Paz de la Barra (Fe en Perú).', 'Asimismo, se vocea como aspirante a la Municipalidad Metropolitana de Lima a George Forsyth, quien actualmente está afiliado a Somos Perú.']\n\n",
     "output_type": "stream"
    }
   ],
   "execution_count": 51
  },
  {
   "cell_type": "markdown",
   "source": "<a style='text-decoration:none;line-height:16px;display:flex;color:#5B5B62;padding:10px;justify-content:end;' href='https://deepnote.com?utm_source=created-in-deepnote-cell&projectId=a2e0ad73-298e-43f6-b7ce-190825e9a6da' target=\"_blank\">\n<img alt='Created in deepnote.com' style='display:inline;max-height:16px;margin:0px;margin-right:7.5px;' src='data:image/svg+xml;base64,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' > </img>\nCreated in <span style='font-weight:600;margin-left:4px;'>Deepnote</span></a>",
   "metadata": {
    "tags": [],
    "created_in_deepnote_cell": true,
    "deepnote_cell_type": "markdown"
   }
  }
 ],
 "nbformat": 4,
 "nbformat_minor": 2,
 "metadata": {
  "orig_nbformat": 2,
  "deepnote": {
   "is_reactive": false
  },
  "deepnote_notebook_id": "84526181-610f-4d08-a6c7-253b21461051",
  "deepnote_execution_queue": []
 }
}